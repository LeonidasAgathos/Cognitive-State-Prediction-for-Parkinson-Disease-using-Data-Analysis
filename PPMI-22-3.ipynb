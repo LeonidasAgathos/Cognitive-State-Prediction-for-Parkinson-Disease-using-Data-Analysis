{
 "cells": [
  {
   "cell_type": "code",
   "execution_count": null,
   "id": "6e52a616-b559-4548-86de-6a5f6ccdfe26",
   "metadata": {
    "execution": {
     "iopub.execute_input": "2023-03-21T21:29:54.377584Z",
     "iopub.status.busy": "2023-03-21T21:29:54.377170Z",
     "iopub.status.idle": "2023-03-21T21:29:57.676887Z",
     "shell.execute_reply": "2023-03-21T21:29:57.676008Z",
     "shell.execute_reply.started": "2023-03-21T21:29:54.377514Z"
    },
    "tags": []
   },
   "outputs": [],
   "source": [
    "pip install seaborn"
   ]
  },
  {
   "cell_type": "code",
   "execution_count": null,
   "id": "b16eb279-b1b8-423e-94fc-3f503292b9a3",
   "metadata": {
    "execution": {
     "iopub.execute_input": "2023-03-21T21:29:57.678785Z",
     "iopub.status.busy": "2023-03-21T21:29:57.678469Z",
     "iopub.status.idle": "2023-03-21T21:30:00.259418Z",
     "shell.execute_reply": "2023-03-21T21:30:00.258486Z",
     "shell.execute_reply.started": "2023-03-21T21:29:57.678760Z"
    },
    "tags": []
   },
   "outputs": [],
   "source": [
    "pip install openpyxl"
   ]
  },
  {
   "cell_type": "code",
   "execution_count": null,
   "id": "cb162b57-77d8-4388-9b08-54394f357b80",
   "metadata": {
    "execution": {
     "iopub.execute_input": "2023-03-21T21:30:00.261644Z",
     "iopub.status.busy": "2023-03-21T21:30:00.260902Z",
     "iopub.status.idle": "2023-03-21T21:30:07.589294Z",
     "shell.execute_reply": "2023-03-21T21:30:07.588521Z",
     "shell.execute_reply.started": "2023-03-21T21:30:00.261604Z"
    },
    "tags": []
   },
   "outputs": [],
   "source": [
    "pip install dython"
   ]
  },
  {
   "cell_type": "code",
   "execution_count": null,
   "id": "c75aca71-5c84-415f-8ee0-a0ef6b7ca20f",
   "metadata": {
    "execution": {
     "iopub.execute_input": "2023-03-21T21:30:07.591104Z",
     "iopub.status.busy": "2023-03-21T21:30:07.590785Z",
     "iopub.status.idle": "2023-03-21T21:30:10.166687Z",
     "shell.execute_reply": "2023-03-21T21:30:10.165658Z",
     "shell.execute_reply.started": "2023-03-21T21:30:07.591076Z"
    },
    "tags": []
   },
   "outputs": [],
   "source": [
    "pip install imblearn"
   ]
  },
  {
   "cell_type": "code",
   "execution_count": 7,
   "id": "394519a4-2eb9-4c76-b10b-f5e185af33c7",
   "metadata": {
    "execution": {
     "iopub.execute_input": "2023-03-21T22:01:16.051330Z",
     "iopub.status.busy": "2023-03-21T22:01:16.050952Z",
     "iopub.status.idle": "2023-03-21T22:01:16.055925Z",
     "shell.execute_reply": "2023-03-21T22:01:16.055353Z",
     "shell.execute_reply.started": "2023-03-21T22:01:16.051307Z"
    },
    "tags": []
   },
   "outputs": [],
   "source": [
    "#import necessary libraries\n",
    "import pandas as pd\n",
    "import numpy as np\n",
    "import openpyxl\n",
    "import seaborn as sns\n",
    "import xgboost as xgb\n",
    "import matplotlib.pyplot as plt\n",
    "from sklearn.metrics import accuracy_score , confusion_matrix , classification_report\n",
    "from sklearn.ensemble import AdaBoostClassifier\n",
    "from imblearn.ensemble import RUSBoostClassifier\n",
    "from imblearn.over_sampling import SMOTE\n",
    "from sklearn.model_selection import KFold, cross_val_score,cross_val_predict\n",
    "from sklearn.preprocessing import LabelEncoder, StandardScaler\n",
    "from sklearn import svm, tree, metrics\n",
    "from sklearn.feature_selection import *\n",
    "from sklearn.model_selection import *"
   ]
  },
  {
   "cell_type": "code",
   "execution_count": 8,
   "id": "715b159c-9c59-4226-b810-f25024c115d6",
   "metadata": {
    "execution": {
     "iopub.execute_input": "2023-03-21T22:01:18.131091Z",
     "iopub.status.busy": "2023-03-21T22:01:18.130704Z",
     "iopub.status.idle": "2023-03-21T22:01:21.290771Z",
     "shell.execute_reply": "2023-03-21T22:01:21.290017Z",
     "shell.execute_reply.started": "2023-03-21T22:01:18.131066Z"
    },
    "tags": []
   },
   "outputs": [
    {
     "data": {
      "text/html": [
       "<div>\n",
       "<style scoped>\n",
       "    .dataframe tbody tr th:only-of-type {\n",
       "        vertical-align: middle;\n",
       "    }\n",
       "\n",
       "    .dataframe tbody tr th {\n",
       "        vertical-align: top;\n",
       "    }\n",
       "\n",
       "    .dataframe thead th {\n",
       "        text-align: right;\n",
       "    }\n",
       "</style>\n",
       "<table border=\"1\" class=\"dataframe\">\n",
       "  <thead>\n",
       "    <tr style=\"text-align: right;\">\n",
       "      <th></th>\n",
       "      <th>SUBJ_ID</th>\n",
       "      <th>VISIT_NAME</th>\n",
       "      <th>Source Of Information (PTCGBOTH)</th>\n",
       "      <th>Experienced Cognitive Decline (COGDECLN)</th>\n",
       "      <th>Functional Impairment Due To Cognitive (FNCDTCOG)</th>\n",
       "      <th>Cognitive State (COGSTATE)</th>\n",
       "      <th>Level Of Confidence Cognitive Diagnosis (COGDXCL)</th>\n",
       "      <th>Review Neuropsychological Tests (RVWNPSY)</th>\n",
       "      <th>Age</th>\n",
       "      <th>Ethnicity</th>\n",
       "      <th>...</th>\n",
       "      <th>Supine Heart Rate (beats/min) (HRSUP)</th>\n",
       "      <th>Standing Blood Pressure - Systolic (mmHg) (SYSSTND)</th>\n",
       "      <th>Standing Blood Pressure - Diastolic (mmHg) (DIASTND)</th>\n",
       "      <th>Standing Heart Rate (beats/min) (HRSTND)</th>\n",
       "      <th>Serum IGF-1 (ng/mL)</th>\n",
       "      <th>p-Tau181P (pg/ml)</th>\n",
       "      <th>CSF Hemoglobin (ng/ml) (Textual)</th>\n",
       "      <th>CSF Alpha-synuclein (pg/ml)</th>\n",
       "      <th>Abeta 42 (pg/ml)</th>\n",
       "      <th>Total tau (pg/ml)</th>\n",
       "    </tr>\n",
       "  </thead>\n",
       "  <tbody>\n",
       "    <tr>\n",
       "      <th>0</th>\n",
       "      <td>3000</td>\n",
       "      <td>Month 60</td>\n",
       "      <td>Patient</td>\n",
       "      <td>No</td>\n",
       "      <td>No</td>\n",
       "      <td>1 - Normal Cognition (PD-NC)</td>\n",
       "      <td>90 Pct - 100 Pct</td>\n",
       "      <td>No</td>\n",
       "      <td>70</td>\n",
       "      <td>Not Hispanic or Latino</td>\n",
       "      <td>...</td>\n",
       "      <td>60.0</td>\n",
       "      <td>130.0</td>\n",
       "      <td>70.0</td>\n",
       "      <td>60.0</td>\n",
       "      <td>170.1</td>\n",
       "      <td>16.1</td>\n",
       "      <td>NaN</td>\n",
       "      <td>2272.32</td>\n",
       "      <td>408.1</td>\n",
       "      <td>54.3</td>\n",
       "    </tr>\n",
       "    <tr>\n",
       "      <th>1</th>\n",
       "      <td>3001</td>\n",
       "      <td>Month 60</td>\n",
       "      <td>Patient</td>\n",
       "      <td>Yes</td>\n",
       "      <td>No</td>\n",
       "      <td>1 - Normal Cognition (PD-NC)</td>\n",
       "      <td>90 Pct - 100 Pct</td>\n",
       "      <td>No</td>\n",
       "      <td>65</td>\n",
       "      <td>Not Hispanic or Latino</td>\n",
       "      <td>...</td>\n",
       "      <td>63.0</td>\n",
       "      <td>137.0</td>\n",
       "      <td>93.0</td>\n",
       "      <td>81.0</td>\n",
       "      <td>211.0</td>\n",
       "      <td>30.1</td>\n",
       "      <td>Below Detection Limit</td>\n",
       "      <td>1976.82</td>\n",
       "      <td>435.4</td>\n",
       "      <td>45.9</td>\n",
       "    </tr>\n",
       "    <tr>\n",
       "      <th>2</th>\n",
       "      <td>3002</td>\n",
       "      <td>Month 60</td>\n",
       "      <td>Patient</td>\n",
       "      <td>Yes</td>\n",
       "      <td>No</td>\n",
       "      <td>1 - Normal Cognition (PD-NC)</td>\n",
       "      <td>50 Pct - 89 Pct</td>\n",
       "      <td>No</td>\n",
       "      <td>68</td>\n",
       "      <td>Not Hispanic or Latino</td>\n",
       "      <td>...</td>\n",
       "      <td>64.0</td>\n",
       "      <td>130.0</td>\n",
       "      <td>84.0</td>\n",
       "      <td>68.0</td>\n",
       "      <td>126.2</td>\n",
       "      <td>18.5</td>\n",
       "      <td>NaN</td>\n",
       "      <td>2972.06</td>\n",
       "      <td>204.1</td>\n",
       "      <td>99.3</td>\n",
       "    </tr>\n",
       "    <tr>\n",
       "      <th>3</th>\n",
       "      <td>3003</td>\n",
       "      <td>Month 60</td>\n",
       "      <td>Patient</td>\n",
       "      <td>No</td>\n",
       "      <td>No</td>\n",
       "      <td>1 - Normal Cognition (PD-NC)</td>\n",
       "      <td>90 Pct - 100 Pct</td>\n",
       "      <td>No</td>\n",
       "      <td>57</td>\n",
       "      <td>Not Hispanic or Latino</td>\n",
       "      <td>...</td>\n",
       "      <td>60.0</td>\n",
       "      <td>110.0</td>\n",
       "      <td>70.0</td>\n",
       "      <td>68.0</td>\n",
       "      <td>142.8</td>\n",
       "      <td>8.2</td>\n",
       "      <td>NaN</td>\n",
       "      <td>1426.42</td>\n",
       "      <td>310.8</td>\n",
       "      <td>27.6</td>\n",
       "    </tr>\n",
       "    <tr>\n",
       "      <th>4</th>\n",
       "      <td>3004</td>\n",
       "      <td>Month 60</td>\n",
       "      <td>Patient</td>\n",
       "      <td>No</td>\n",
       "      <td>No</td>\n",
       "      <td>1 - Normal Cognition (PD-NC)</td>\n",
       "      <td>90 Pct - 100 Pct</td>\n",
       "      <td>No</td>\n",
       "      <td>60</td>\n",
       "      <td>Not Hispanic or Latino</td>\n",
       "      <td>...</td>\n",
       "      <td>48.0</td>\n",
       "      <td>150.0</td>\n",
       "      <td>86.0</td>\n",
       "      <td>48.0</td>\n",
       "      <td>165.4</td>\n",
       "      <td>11.5</td>\n",
       "      <td>Below Detection Limit</td>\n",
       "      <td>1352.57</td>\n",
       "      <td>374.0</td>\n",
       "      <td>30.8</td>\n",
       "    </tr>\n",
       "    <tr>\n",
       "      <th>...</th>\n",
       "      <td>...</td>\n",
       "      <td>...</td>\n",
       "      <td>...</td>\n",
       "      <td>...</td>\n",
       "      <td>...</td>\n",
       "      <td>...</td>\n",
       "      <td>...</td>\n",
       "      <td>...</td>\n",
       "      <td>...</td>\n",
       "      <td>...</td>\n",
       "      <td>...</td>\n",
       "      <td>...</td>\n",
       "      <td>...</td>\n",
       "      <td>...</td>\n",
       "      <td>...</td>\n",
       "      <td>...</td>\n",
       "      <td>...</td>\n",
       "      <td>...</td>\n",
       "      <td>...</td>\n",
       "      <td>...</td>\n",
       "      <td>...</td>\n",
       "    </tr>\n",
       "    <tr>\n",
       "      <th>892</th>\n",
       "      <td>85242</td>\n",
       "      <td>Month 03</td>\n",
       "      <td>Patient</td>\n",
       "      <td>No</td>\n",
       "      <td>No</td>\n",
       "      <td>1 - Normal Cognition (PD-NC)</td>\n",
       "      <td>90 Pct - 100 Pct</td>\n",
       "      <td>Yes</td>\n",
       "      <td>63</td>\n",
       "      <td>Not Hispanic or Latino</td>\n",
       "      <td>...</td>\n",
       "      <td>68.0</td>\n",
       "      <td>124.0</td>\n",
       "      <td>82.0</td>\n",
       "      <td>78.0</td>\n",
       "      <td>NaN</td>\n",
       "      <td>NaN</td>\n",
       "      <td>NaN</td>\n",
       "      <td>NaN</td>\n",
       "      <td>NaN</td>\n",
       "      <td>NaN</td>\n",
       "    </tr>\n",
       "    <tr>\n",
       "      <th>893</th>\n",
       "      <td>90456</td>\n",
       "      <td>Month 24</td>\n",
       "      <td>Patient and Caregiver</td>\n",
       "      <td>Yes</td>\n",
       "      <td>No</td>\n",
       "      <td>2 - Mild Cognitive Impairment (PD-MCI)</td>\n",
       "      <td>50 Pct - 89 Pct</td>\n",
       "      <td>No</td>\n",
       "      <td>82</td>\n",
       "      <td>Not Hispanic or Latino</td>\n",
       "      <td>...</td>\n",
       "      <td>62.0</td>\n",
       "      <td>168.0</td>\n",
       "      <td>102.0</td>\n",
       "      <td>68.0</td>\n",
       "      <td>NaN</td>\n",
       "      <td>NaN</td>\n",
       "      <td>NaN</td>\n",
       "      <td>NaN</td>\n",
       "      <td>NaN</td>\n",
       "      <td>NaN</td>\n",
       "    </tr>\n",
       "    <tr>\n",
       "      <th>894</th>\n",
       "      <td>91097</td>\n",
       "      <td>Month 24</td>\n",
       "      <td>Patient</td>\n",
       "      <td>No</td>\n",
       "      <td>No</td>\n",
       "      <td>1 - Normal Cognition (PD-NC)</td>\n",
       "      <td>90 Pct - 100 Pct</td>\n",
       "      <td>No</td>\n",
       "      <td>67</td>\n",
       "      <td>Hispanic or Latino</td>\n",
       "      <td>...</td>\n",
       "      <td>64.0</td>\n",
       "      <td>120.0</td>\n",
       "      <td>80.0</td>\n",
       "      <td>64.0</td>\n",
       "      <td>NaN</td>\n",
       "      <td>NaN</td>\n",
       "      <td>NaN</td>\n",
       "      <td>NaN</td>\n",
       "      <td>NaN</td>\n",
       "      <td>NaN</td>\n",
       "    </tr>\n",
       "    <tr>\n",
       "      <th>895</th>\n",
       "      <td>92490</td>\n",
       "      <td>Month 12</td>\n",
       "      <td>Patient</td>\n",
       "      <td>No</td>\n",
       "      <td>No</td>\n",
       "      <td>1 - Normal Cognition (PD-NC)</td>\n",
       "      <td>50 Pct - 89 Pct</td>\n",
       "      <td>No</td>\n",
       "      <td>72</td>\n",
       "      <td>Not Hispanic or Latino</td>\n",
       "      <td>...</td>\n",
       "      <td>80.0</td>\n",
       "      <td>133.0</td>\n",
       "      <td>88.0</td>\n",
       "      <td>84.0</td>\n",
       "      <td>NaN</td>\n",
       "      <td>NaN</td>\n",
       "      <td>NaN</td>\n",
       "      <td>NaN</td>\n",
       "      <td>NaN</td>\n",
       "      <td>NaN</td>\n",
       "    </tr>\n",
       "    <tr>\n",
       "      <th>896</th>\n",
       "      <td>92834</td>\n",
       "      <td>Month 12</td>\n",
       "      <td>Patient</td>\n",
       "      <td>No</td>\n",
       "      <td>No</td>\n",
       "      <td>1 - Normal Cognition (PD-NC)</td>\n",
       "      <td>90 Pct - 100 Pct</td>\n",
       "      <td>No</td>\n",
       "      <td>66</td>\n",
       "      <td>Not Hispanic or Latino</td>\n",
       "      <td>...</td>\n",
       "      <td>64.0</td>\n",
       "      <td>128.0</td>\n",
       "      <td>75.0</td>\n",
       "      <td>67.0</td>\n",
       "      <td>NaN</td>\n",
       "      <td>NaN</td>\n",
       "      <td>NaN</td>\n",
       "      <td>NaN</td>\n",
       "      <td>NaN</td>\n",
       "      <td>NaN</td>\n",
       "    </tr>\n",
       "  </tbody>\n",
       "</table>\n",
       "<p>897 rows × 382 columns</p>\n",
       "</div>"
      ],
      "text/plain": [
       "     SUBJ_ID VISIT_NAME Source Of Information (PTCGBOTH)  \\\n",
       "0       3000   Month 60                          Patient   \n",
       "1       3001   Month 60                          Patient   \n",
       "2       3002   Month 60                          Patient   \n",
       "3       3003   Month 60                          Patient   \n",
       "4       3004   Month 60                          Patient   \n",
       "..       ...        ...                              ...   \n",
       "892    85242   Month 03                          Patient   \n",
       "893    90456   Month 24            Patient and Caregiver   \n",
       "894    91097   Month 24                          Patient   \n",
       "895    92490   Month 12                          Patient   \n",
       "896    92834   Month 12                          Patient   \n",
       "\n",
       "    Experienced Cognitive Decline (COGDECLN)  \\\n",
       "0                                         No   \n",
       "1                                        Yes   \n",
       "2                                        Yes   \n",
       "3                                         No   \n",
       "4                                         No   \n",
       "..                                       ...   \n",
       "892                                       No   \n",
       "893                                      Yes   \n",
       "894                                       No   \n",
       "895                                       No   \n",
       "896                                       No   \n",
       "\n",
       "    Functional Impairment Due To Cognitive (FNCDTCOG)  \\\n",
       "0                                                  No   \n",
       "1                                                  No   \n",
       "2                                                  No   \n",
       "3                                                  No   \n",
       "4                                                  No   \n",
       "..                                                ...   \n",
       "892                                                No   \n",
       "893                                                No   \n",
       "894                                                No   \n",
       "895                                                No   \n",
       "896                                                No   \n",
       "\n",
       "                 Cognitive State (COGSTATE)  \\\n",
       "0              1 - Normal Cognition (PD-NC)   \n",
       "1              1 - Normal Cognition (PD-NC)   \n",
       "2              1 - Normal Cognition (PD-NC)   \n",
       "3              1 - Normal Cognition (PD-NC)   \n",
       "4              1 - Normal Cognition (PD-NC)   \n",
       "..                                      ...   \n",
       "892            1 - Normal Cognition (PD-NC)   \n",
       "893  2 - Mild Cognitive Impairment (PD-MCI)   \n",
       "894            1 - Normal Cognition (PD-NC)   \n",
       "895            1 - Normal Cognition (PD-NC)   \n",
       "896            1 - Normal Cognition (PD-NC)   \n",
       "\n",
       "    Level Of Confidence Cognitive Diagnosis (COGDXCL)  \\\n",
       "0                                    90 Pct - 100 Pct   \n",
       "1                                    90 Pct - 100 Pct   \n",
       "2                                     50 Pct - 89 Pct   \n",
       "3                                    90 Pct - 100 Pct   \n",
       "4                                    90 Pct - 100 Pct   \n",
       "..                                                ...   \n",
       "892                                  90 Pct - 100 Pct   \n",
       "893                                   50 Pct - 89 Pct   \n",
       "894                                  90 Pct - 100 Pct   \n",
       "895                                   50 Pct - 89 Pct   \n",
       "896                                  90 Pct - 100 Pct   \n",
       "\n",
       "    Review Neuropsychological Tests (RVWNPSY)  Age               Ethnicity  \\\n",
       "0                                          No   70  Not Hispanic or Latino   \n",
       "1                                          No   65  Not Hispanic or Latino   \n",
       "2                                          No   68  Not Hispanic or Latino   \n",
       "3                                          No   57  Not Hispanic or Latino   \n",
       "4                                          No   60  Not Hispanic or Latino   \n",
       "..                                        ...  ...                     ...   \n",
       "892                                       Yes   63  Not Hispanic or Latino   \n",
       "893                                        No   82  Not Hispanic or Latino   \n",
       "894                                        No   67      Hispanic or Latino   \n",
       "895                                        No   72  Not Hispanic or Latino   \n",
       "896                                        No   66  Not Hispanic or Latino   \n",
       "\n",
       "     ... Supine Heart Rate (beats/min) (HRSUP)  \\\n",
       "0    ...                                  60.0   \n",
       "1    ...                                  63.0   \n",
       "2    ...                                  64.0   \n",
       "3    ...                                  60.0   \n",
       "4    ...                                  48.0   \n",
       "..   ...                                   ...   \n",
       "892  ...                                  68.0   \n",
       "893  ...                                  62.0   \n",
       "894  ...                                  64.0   \n",
       "895  ...                                  80.0   \n",
       "896  ...                                  64.0   \n",
       "\n",
       "    Standing Blood Pressure - Systolic (mmHg) (SYSSTND)  \\\n",
       "0                                                130.0    \n",
       "1                                                137.0    \n",
       "2                                                130.0    \n",
       "3                                                110.0    \n",
       "4                                                150.0    \n",
       "..                                                 ...    \n",
       "892                                              124.0    \n",
       "893                                              168.0    \n",
       "894                                              120.0    \n",
       "895                                              133.0    \n",
       "896                                              128.0    \n",
       "\n",
       "    Standing Blood Pressure - Diastolic (mmHg) (DIASTND)  \\\n",
       "0                                                 70.0     \n",
       "1                                                 93.0     \n",
       "2                                                 84.0     \n",
       "3                                                 70.0     \n",
       "4                                                 86.0     \n",
       "..                                                 ...     \n",
       "892                                               82.0     \n",
       "893                                              102.0     \n",
       "894                                               80.0     \n",
       "895                                               88.0     \n",
       "896                                               75.0     \n",
       "\n",
       "    Standing Heart Rate (beats/min) (HRSTND) Serum IGF-1 (ng/mL)  \\\n",
       "0                                       60.0               170.1   \n",
       "1                                       81.0               211.0   \n",
       "2                                       68.0               126.2   \n",
       "3                                       68.0               142.8   \n",
       "4                                       48.0               165.4   \n",
       "..                                       ...                 ...   \n",
       "892                                     78.0                 NaN   \n",
       "893                                     68.0                 NaN   \n",
       "894                                     64.0                 NaN   \n",
       "895                                     84.0                 NaN   \n",
       "896                                     67.0                 NaN   \n",
       "\n",
       "    p-Tau181P (pg/ml) CSF Hemoglobin (ng/ml) (Textual)  \\\n",
       "0                16.1                              NaN   \n",
       "1                30.1            Below Detection Limit   \n",
       "2                18.5                              NaN   \n",
       "3                 8.2                              NaN   \n",
       "4                11.5            Below Detection Limit   \n",
       "..                ...                              ...   \n",
       "892               NaN                              NaN   \n",
       "893               NaN                              NaN   \n",
       "894               NaN                              NaN   \n",
       "895               NaN                              NaN   \n",
       "896               NaN                              NaN   \n",
       "\n",
       "    CSF Alpha-synuclein (pg/ml) Abeta 42 (pg/ml) Total tau (pg/ml)  \n",
       "0                       2272.32            408.1              54.3  \n",
       "1                       1976.82            435.4              45.9  \n",
       "2                       2972.06            204.1              99.3  \n",
       "3                       1426.42            310.8              27.6  \n",
       "4                       1352.57            374.0              30.8  \n",
       "..                          ...              ...               ...  \n",
       "892                         NaN              NaN               NaN  \n",
       "893                         NaN              NaN               NaN  \n",
       "894                         NaN              NaN               NaN  \n",
       "895                         NaN              NaN               NaN  \n",
       "896                         NaN              NaN               NaN  \n",
       "\n",
       "[897 rows x 382 columns]"
      ]
     },
     "execution_count": 8,
     "metadata": {},
     "output_type": "execute_result"
    }
   ],
   "source": [
    "df = pd.read_excel('Parkinson1.xlsx')\n",
    "df"
   ]
  },
  {
   "cell_type": "code",
   "execution_count": 9,
   "id": "702e1aef-8771-4d7a-89b6-f62d81c38f05",
   "metadata": {
    "execution": {
     "iopub.execute_input": "2023-03-21T22:01:52.114226Z",
     "iopub.status.busy": "2023-03-21T22:01:52.113810Z",
     "iopub.status.idle": "2023-03-21T22:01:52.145002Z",
     "shell.execute_reply": "2023-03-21T22:01:52.144128Z",
     "shell.execute_reply.started": "2023-03-21T22:01:52.114200Z"
    },
    "tags": []
   },
   "outputs": [
    {
     "name": "stdout",
     "output_type": "stream",
     "text": [
      "============= TRAIN SET =============\n",
      "Missing Values:  868\n",
      "Shape:  (897, 382)\n",
      "Columns:  382\n",
      "Data types:\n",
      "SUBJ_ID                                                int64\n",
      "VISIT_NAME                                            object\n",
      "Source Of Information (PTCGBOTH)                      object\n",
      "Experienced Cognitive Decline (COGDECLN)              object\n",
      "Functional Impairment Due To Cognitive (FNCDTCOG)     object\n",
      "                                                      ...   \n",
      "p-Tau181P (pg/ml)                                    float64\n",
      "CSF Hemoglobin (ng/ml) (Textual)                      object\n",
      "CSF Alpha-synuclein (pg/ml)                          float64\n",
      "Abeta 42 (pg/ml)                                     float64\n",
      "Total tau (pg/ml)                                    float64\n",
      "Length: 382, dtype: object\n"
     ]
    }
   ],
   "source": [
    "print(\"============= Data Summary =============\")\n",
    "print(\"Missing Values: \" ,np.sum(df.isnull().any(axis=1)))\n",
    "print(\"Shape: \", df.shape)\n",
    "print(\"Columns: \", len(df.columns))\n",
    "print(\"Data types:\")\n",
    "print(df.dtypes)\n",
    "     "
   ]
  },
  {
   "cell_type": "code",
   "execution_count": 10,
   "id": "2eb06f3f-6bf7-4c43-9887-6daf19e55879",
   "metadata": {
    "execution": {
     "iopub.execute_input": "2023-03-21T22:01:54.952099Z",
     "iopub.status.busy": "2023-03-21T22:01:54.951715Z",
     "iopub.status.idle": "2023-03-21T22:01:55.259337Z",
     "shell.execute_reply": "2023-03-21T22:01:55.258728Z",
     "shell.execute_reply.started": "2023-03-21T22:01:54.952076Z"
    },
    "tags": []
   },
   "outputs": [],
   "source": [
    "#We need the types to be categorical, so we can correlate them \n",
    "#We convert them to categorical  \n",
    "df[[col for col in df.columns if df[col].dtypes == object]] = df[[col for col in df.columns if df[col].dtypes == object]].astype('category')#.cat.codes"
   ]
  },
  {
   "cell_type": "code",
   "execution_count": 11,
   "id": "bf0f45e9-3d06-401e-95eb-211e8706aadc",
   "metadata": {
    "execution": {
     "iopub.execute_input": "2023-03-21T22:01:55.293844Z",
     "iopub.status.busy": "2023-03-21T22:01:55.293486Z",
     "iopub.status.idle": "2023-03-21T22:01:55.371836Z",
     "shell.execute_reply": "2023-03-21T22:01:55.371234Z",
     "shell.execute_reply.started": "2023-03-21T22:01:55.293822Z"
    },
    "tags": []
   },
   "outputs": [],
   "source": [
    "cat_cols = [col for col in df.columns if df[col].dtype == 'category']"
   ]
  },
  {
   "cell_type": "code",
   "execution_count": 12,
   "id": "10e482b2-8f45-4523-a833-48698cb62025",
   "metadata": {
    "execution": {
     "iopub.execute_input": "2023-03-21T22:01:55.703862Z",
     "iopub.status.busy": "2023-03-21T22:01:55.703490Z",
     "iopub.status.idle": "2023-03-21T22:01:55.734603Z",
     "shell.execute_reply": "2023-03-21T22:01:55.733914Z",
     "shell.execute_reply.started": "2023-03-21T22:01:55.703839Z"
    },
    "tags": []
   },
   "outputs": [],
   "source": [
    "for col in cat_cols:\n",
    "    df[col] = df[col].cat.codes"
   ]
  },
  {
   "cell_type": "code",
   "execution_count": 8,
   "id": "1648234d-87cc-4a52-b328-3f252a94d321",
   "metadata": {
    "execution": {
     "iopub.execute_input": "2023-03-21T21:38:51.621243Z",
     "iopub.status.busy": "2023-03-21T21:38:51.620852Z",
     "iopub.status.idle": "2023-03-21T21:38:51.637469Z",
     "shell.execute_reply": "2023-03-21T21:38:51.636852Z",
     "shell.execute_reply.started": "2023-03-21T21:38:51.621218Z"
    },
    "tags": []
   },
   "outputs": [
    {
     "name": "stdout",
     "output_type": "stream",
     "text": [
      "<class 'pandas.core.frame.DataFrame'>\n",
      "RangeIndex: 897 entries, 0 to 896\n",
      "Columns: 382 entries, SUBJ_ID to Total tau (pg/ml)\n",
      "dtypes: float64(116), int16(15), int64(2), int8(249)\n",
      "memory usage: 1.0 MB\n"
     ]
    }
   ],
   "source": [
    "df.info()\n"
   ]
  },
  {
   "cell_type": "code",
   "execution_count": 13,
   "id": "fe4d61e7-4641-4a7f-a7c8-5e9766958c41",
   "metadata": {
    "execution": {
     "iopub.execute_input": "2023-03-21T22:02:01.495384Z",
     "iopub.status.busy": "2023-03-21T22:02:01.495005Z",
     "iopub.status.idle": "2023-03-21T22:02:01.501837Z",
     "shell.execute_reply": "2023-03-21T22:02:01.501211Z",
     "shell.execute_reply.started": "2023-03-21T22:02:01.495361Z"
    },
    "tags": []
   },
   "outputs": [],
   "source": [
    "#Fill values with value of previous cell\n",
    "df = df.ffill()"
   ]
  },
  {
   "cell_type": "code",
   "execution_count": 14,
   "id": "e7528b4e-1c80-4f3b-83ff-4a0e917e7e02",
   "metadata": {
    "execution": {
     "iopub.execute_input": "2023-03-21T22:07:58.464219Z",
     "iopub.status.busy": "2023-03-21T22:07:58.463834Z",
     "iopub.status.idle": "2023-03-21T22:07:58.469453Z",
     "shell.execute_reply": "2023-03-21T22:07:58.468882Z",
     "shell.execute_reply.started": "2023-03-21T22:07:58.464194Z"
    },
    "tags": []
   },
   "outputs": [],
   "source": [
    "#Drop non assigned values\n",
    "df = df.dropna()"
   ]
  },
  {
   "cell_type": "code",
   "execution_count": null,
   "id": "029a47f9",
   "metadata": {},
   "outputs": [],
   "source": [
    "#Filter the data and keep the usefull attributes which have correlation greater than 0.2\n",
    "dfCorr = corr_mat\n",
    "filteredDf = dfCorr[(dfCorr >= .2) & (dfCorr !=1.000)]\n",
    "filteredDf.to_csv('Filtered.csv')\n",
    "filteredDf\n"
   ]
  },
  {
   "cell_type": "code",
   "execution_count": null,
   "id": "dfbb268f",
   "metadata": {},
   "outputs": [],
   "source": [
    "#Remove columns which have less than 0.2 correlatin with our target class \n",
    "to_drop = [column for column in corr_mat.columns if abs(corr_mat['Cognitive State (COGSTATE)'][column]) <= 0.2]"
   ]
  },
  {
   "cell_type": "code",
   "execution_count": null,
   "id": "41e0c541",
   "metadata": {},
   "outputs": [],
   "source": [
    "#Drop the columns not included in the filtering process\n",
    "df1 = df.drop(to_drop, axis=1)"
   ]
  },
  {
   "cell_type": "code",
   "execution_count": 15,
   "id": "0c83a4ee-b0f2-403c-9ea8-ca69a32dbb09",
   "metadata": {
    "execution": {
     "iopub.execute_input": "2023-03-21T22:08:03.974263Z",
     "iopub.status.busy": "2023-03-21T22:08:03.973857Z",
     "iopub.status.idle": "2023-03-21T22:08:03.978831Z",
     "shell.execute_reply": "2023-03-21T22:08:03.978249Z",
     "shell.execute_reply.started": "2023-03-21T22:08:03.974238Z"
    },
    "tags": []
   },
   "outputs": [],
   "source": [
    "#We seperate the \"target\" attribute from the rest \n",
    "X = df.drop('Cognitive State (COGSTATE)', axis=1)\n",
    "#We use Cognitive State as \"target\" attribute \n",
    "y = df['Cognitive State (COGSTATE)']"
   ]
  },
  {
   "cell_type": "code",
   "execution_count": 16,
   "id": "28744b83-8442-4236-bb3c-6efb6f9da515",
   "metadata": {
    "execution": {
     "iopub.execute_input": "2023-03-21T22:08:04.894283Z",
     "iopub.status.busy": "2023-03-21T22:08:04.893887Z",
     "iopub.status.idle": "2023-03-21T22:08:04.899458Z",
     "shell.execute_reply": "2023-03-21T22:08:04.898936Z",
     "shell.execute_reply.started": "2023-03-21T22:08:04.894259Z"
    },
    "tags": []
   },
   "outputs": [
    {
     "data": {
      "text/plain": [
       "1      0\n",
       "2      0\n",
       "3      0\n",
       "4      0\n",
       "5      0\n",
       "      ..\n",
       "892    0\n",
       "893    1\n",
       "894    0\n",
       "895    0\n",
       "896    0\n",
       "Name: Cognitive State (COGSTATE), Length: 896, dtype: int8"
      ]
     },
     "execution_count": 16,
     "metadata": {},
     "output_type": "execute_result"
    }
   ],
   "source": [
    "y"
   ]
  },
  {
   "cell_type": "code",
   "execution_count": 17,
   "id": "147701dc-a129-44fb-a4b1-cd0d4cdf18b3",
   "metadata": {
    "execution": {
     "iopub.execute_input": "2023-03-21T22:08:05.214169Z",
     "iopub.status.busy": "2023-03-21T22:08:05.213768Z",
     "iopub.status.idle": "2023-03-21T22:08:05.235459Z",
     "shell.execute_reply": "2023-03-21T22:08:05.234908Z",
     "shell.execute_reply.started": "2023-03-21T22:08:05.214145Z"
    },
    "tags": []
   },
   "outputs": [
    {
     "data": {
      "text/html": [
       "<div>\n",
       "<style scoped>\n",
       "    .dataframe tbody tr th:only-of-type {\n",
       "        vertical-align: middle;\n",
       "    }\n",
       "\n",
       "    .dataframe tbody tr th {\n",
       "        vertical-align: top;\n",
       "    }\n",
       "\n",
       "    .dataframe thead th {\n",
       "        text-align: right;\n",
       "    }\n",
       "</style>\n",
       "<table border=\"1\" class=\"dataframe\">\n",
       "  <thead>\n",
       "    <tr style=\"text-align: right;\">\n",
       "      <th></th>\n",
       "      <th>SUBJ_ID</th>\n",
       "      <th>VISIT_NAME</th>\n",
       "      <th>Source Of Information (PTCGBOTH)</th>\n",
       "      <th>Experienced Cognitive Decline (COGDECLN)</th>\n",
       "      <th>Functional Impairment Due To Cognitive (FNCDTCOG)</th>\n",
       "      <th>Level Of Confidence Cognitive Diagnosis (COGDXCL)</th>\n",
       "      <th>Review Neuropsychological Tests (RVWNPSY)</th>\n",
       "      <th>Age</th>\n",
       "      <th>Ethnicity</th>\n",
       "      <th>Race</th>\n",
       "      <th>...</th>\n",
       "      <th>Supine Heart Rate (beats/min) (HRSUP)</th>\n",
       "      <th>Standing Blood Pressure - Systolic (mmHg) (SYSSTND)</th>\n",
       "      <th>Standing Blood Pressure - Diastolic (mmHg) (DIASTND)</th>\n",
       "      <th>Standing Heart Rate (beats/min) (HRSTND)</th>\n",
       "      <th>Serum IGF-1 (ng/mL)</th>\n",
       "      <th>p-Tau181P (pg/ml)</th>\n",
       "      <th>CSF Hemoglobin (ng/ml) (Textual)</th>\n",
       "      <th>CSF Alpha-synuclein (pg/ml)</th>\n",
       "      <th>Abeta 42 (pg/ml)</th>\n",
       "      <th>Total tau (pg/ml)</th>\n",
       "    </tr>\n",
       "  </thead>\n",
       "  <tbody>\n",
       "    <tr>\n",
       "      <th>1</th>\n",
       "      <td>3001</td>\n",
       "      <td>6</td>\n",
       "      <td>1</td>\n",
       "      <td>1</td>\n",
       "      <td>0</td>\n",
       "      <td>3</td>\n",
       "      <td>0</td>\n",
       "      <td>65</td>\n",
       "      <td>1</td>\n",
       "      <td>4</td>\n",
       "      <td>...</td>\n",
       "      <td>63.0</td>\n",
       "      <td>137.0</td>\n",
       "      <td>93.0</td>\n",
       "      <td>81.0</td>\n",
       "      <td>211.0</td>\n",
       "      <td>30.1</td>\n",
       "      <td>0</td>\n",
       "      <td>1976.82</td>\n",
       "      <td>435.4</td>\n",
       "      <td>45.9</td>\n",
       "    </tr>\n",
       "    <tr>\n",
       "      <th>2</th>\n",
       "      <td>3002</td>\n",
       "      <td>6</td>\n",
       "      <td>1</td>\n",
       "      <td>1</td>\n",
       "      <td>0</td>\n",
       "      <td>2</td>\n",
       "      <td>0</td>\n",
       "      <td>68</td>\n",
       "      <td>1</td>\n",
       "      <td>4</td>\n",
       "      <td>...</td>\n",
       "      <td>64.0</td>\n",
       "      <td>130.0</td>\n",
       "      <td>84.0</td>\n",
       "      <td>68.0</td>\n",
       "      <td>126.2</td>\n",
       "      <td>18.5</td>\n",
       "      <td>-1</td>\n",
       "      <td>2972.06</td>\n",
       "      <td>204.1</td>\n",
       "      <td>99.3</td>\n",
       "    </tr>\n",
       "    <tr>\n",
       "      <th>3</th>\n",
       "      <td>3003</td>\n",
       "      <td>6</td>\n",
       "      <td>1</td>\n",
       "      <td>0</td>\n",
       "      <td>0</td>\n",
       "      <td>3</td>\n",
       "      <td>0</td>\n",
       "      <td>57</td>\n",
       "      <td>1</td>\n",
       "      <td>4</td>\n",
       "      <td>...</td>\n",
       "      <td>60.0</td>\n",
       "      <td>110.0</td>\n",
       "      <td>70.0</td>\n",
       "      <td>68.0</td>\n",
       "      <td>142.8</td>\n",
       "      <td>8.2</td>\n",
       "      <td>-1</td>\n",
       "      <td>1426.42</td>\n",
       "      <td>310.8</td>\n",
       "      <td>27.6</td>\n",
       "    </tr>\n",
       "    <tr>\n",
       "      <th>4</th>\n",
       "      <td>3004</td>\n",
       "      <td>6</td>\n",
       "      <td>1</td>\n",
       "      <td>0</td>\n",
       "      <td>0</td>\n",
       "      <td>3</td>\n",
       "      <td>0</td>\n",
       "      <td>60</td>\n",
       "      <td>1</td>\n",
       "      <td>4</td>\n",
       "      <td>...</td>\n",
       "      <td>48.0</td>\n",
       "      <td>150.0</td>\n",
       "      <td>86.0</td>\n",
       "      <td>48.0</td>\n",
       "      <td>165.4</td>\n",
       "      <td>11.5</td>\n",
       "      <td>0</td>\n",
       "      <td>1352.57</td>\n",
       "      <td>374.0</td>\n",
       "      <td>30.8</td>\n",
       "    </tr>\n",
       "    <tr>\n",
       "      <th>5</th>\n",
       "      <td>3008</td>\n",
       "      <td>5</td>\n",
       "      <td>1</td>\n",
       "      <td>0</td>\n",
       "      <td>0</td>\n",
       "      <td>2</td>\n",
       "      <td>0</td>\n",
       "      <td>82</td>\n",
       "      <td>1</td>\n",
       "      <td>4</td>\n",
       "      <td>...</td>\n",
       "      <td>64.0</td>\n",
       "      <td>150.0</td>\n",
       "      <td>84.0</td>\n",
       "      <td>76.0</td>\n",
       "      <td>65.8</td>\n",
       "      <td>20.7</td>\n",
       "      <td>0</td>\n",
       "      <td>3720.71</td>\n",
       "      <td>224.0</td>\n",
       "      <td>90.2</td>\n",
       "    </tr>\n",
       "    <tr>\n",
       "      <th>...</th>\n",
       "      <td>...</td>\n",
       "      <td>...</td>\n",
       "      <td>...</td>\n",
       "      <td>...</td>\n",
       "      <td>...</td>\n",
       "      <td>...</td>\n",
       "      <td>...</td>\n",
       "      <td>...</td>\n",
       "      <td>...</td>\n",
       "      <td>...</td>\n",
       "      <td>...</td>\n",
       "      <td>...</td>\n",
       "      <td>...</td>\n",
       "      <td>...</td>\n",
       "      <td>...</td>\n",
       "      <td>...</td>\n",
       "      <td>...</td>\n",
       "      <td>...</td>\n",
       "      <td>...</td>\n",
       "      <td>...</td>\n",
       "      <td>...</td>\n",
       "    </tr>\n",
       "    <tr>\n",
       "      <th>892</th>\n",
       "      <td>85242</td>\n",
       "      <td>0</td>\n",
       "      <td>1</td>\n",
       "      <td>0</td>\n",
       "      <td>0</td>\n",
       "      <td>3</td>\n",
       "      <td>1</td>\n",
       "      <td>63</td>\n",
       "      <td>1</td>\n",
       "      <td>4</td>\n",
       "      <td>...</td>\n",
       "      <td>68.0</td>\n",
       "      <td>124.0</td>\n",
       "      <td>82.0</td>\n",
       "      <td>78.0</td>\n",
       "      <td>103.0</td>\n",
       "      <td>15.9</td>\n",
       "      <td>-1</td>\n",
       "      <td>3319.59</td>\n",
       "      <td>349.3</td>\n",
       "      <td>54.2</td>\n",
       "    </tr>\n",
       "    <tr>\n",
       "      <th>893</th>\n",
       "      <td>90456</td>\n",
       "      <td>3</td>\n",
       "      <td>2</td>\n",
       "      <td>1</td>\n",
       "      <td>0</td>\n",
       "      <td>2</td>\n",
       "      <td>0</td>\n",
       "      <td>82</td>\n",
       "      <td>1</td>\n",
       "      <td>4</td>\n",
       "      <td>...</td>\n",
       "      <td>62.0</td>\n",
       "      <td>168.0</td>\n",
       "      <td>102.0</td>\n",
       "      <td>68.0</td>\n",
       "      <td>103.0</td>\n",
       "      <td>15.9</td>\n",
       "      <td>-1</td>\n",
       "      <td>3319.59</td>\n",
       "      <td>349.3</td>\n",
       "      <td>54.2</td>\n",
       "    </tr>\n",
       "    <tr>\n",
       "      <th>894</th>\n",
       "      <td>91097</td>\n",
       "      <td>3</td>\n",
       "      <td>1</td>\n",
       "      <td>0</td>\n",
       "      <td>0</td>\n",
       "      <td>3</td>\n",
       "      <td>0</td>\n",
       "      <td>67</td>\n",
       "      <td>0</td>\n",
       "      <td>3</td>\n",
       "      <td>...</td>\n",
       "      <td>64.0</td>\n",
       "      <td>120.0</td>\n",
       "      <td>80.0</td>\n",
       "      <td>64.0</td>\n",
       "      <td>103.0</td>\n",
       "      <td>15.9</td>\n",
       "      <td>-1</td>\n",
       "      <td>3319.59</td>\n",
       "      <td>349.3</td>\n",
       "      <td>54.2</td>\n",
       "    </tr>\n",
       "    <tr>\n",
       "      <th>895</th>\n",
       "      <td>92490</td>\n",
       "      <td>2</td>\n",
       "      <td>1</td>\n",
       "      <td>0</td>\n",
       "      <td>0</td>\n",
       "      <td>2</td>\n",
       "      <td>0</td>\n",
       "      <td>72</td>\n",
       "      <td>1</td>\n",
       "      <td>4</td>\n",
       "      <td>...</td>\n",
       "      <td>80.0</td>\n",
       "      <td>133.0</td>\n",
       "      <td>88.0</td>\n",
       "      <td>84.0</td>\n",
       "      <td>103.0</td>\n",
       "      <td>15.9</td>\n",
       "      <td>-1</td>\n",
       "      <td>3319.59</td>\n",
       "      <td>349.3</td>\n",
       "      <td>54.2</td>\n",
       "    </tr>\n",
       "    <tr>\n",
       "      <th>896</th>\n",
       "      <td>92834</td>\n",
       "      <td>2</td>\n",
       "      <td>1</td>\n",
       "      <td>0</td>\n",
       "      <td>0</td>\n",
       "      <td>3</td>\n",
       "      <td>0</td>\n",
       "      <td>66</td>\n",
       "      <td>1</td>\n",
       "      <td>4</td>\n",
       "      <td>...</td>\n",
       "      <td>64.0</td>\n",
       "      <td>128.0</td>\n",
       "      <td>75.0</td>\n",
       "      <td>67.0</td>\n",
       "      <td>103.0</td>\n",
       "      <td>15.9</td>\n",
       "      <td>-1</td>\n",
       "      <td>3319.59</td>\n",
       "      <td>349.3</td>\n",
       "      <td>54.2</td>\n",
       "    </tr>\n",
       "  </tbody>\n",
       "</table>\n",
       "<p>896 rows × 381 columns</p>\n",
       "</div>"
      ],
      "text/plain": [
       "     SUBJ_ID  VISIT_NAME  Source Of Information (PTCGBOTH)  \\\n",
       "1       3001           6                                 1   \n",
       "2       3002           6                                 1   \n",
       "3       3003           6                                 1   \n",
       "4       3004           6                                 1   \n",
       "5       3008           5                                 1   \n",
       "..       ...         ...                               ...   \n",
       "892    85242           0                                 1   \n",
       "893    90456           3                                 2   \n",
       "894    91097           3                                 1   \n",
       "895    92490           2                                 1   \n",
       "896    92834           2                                 1   \n",
       "\n",
       "     Experienced Cognitive Decline (COGDECLN)  \\\n",
       "1                                           1   \n",
       "2                                           1   \n",
       "3                                           0   \n",
       "4                                           0   \n",
       "5                                           0   \n",
       "..                                        ...   \n",
       "892                                         0   \n",
       "893                                         1   \n",
       "894                                         0   \n",
       "895                                         0   \n",
       "896                                         0   \n",
       "\n",
       "     Functional Impairment Due To Cognitive (FNCDTCOG)  \\\n",
       "1                                                    0   \n",
       "2                                                    0   \n",
       "3                                                    0   \n",
       "4                                                    0   \n",
       "5                                                    0   \n",
       "..                                                 ...   \n",
       "892                                                  0   \n",
       "893                                                  0   \n",
       "894                                                  0   \n",
       "895                                                  0   \n",
       "896                                                  0   \n",
       "\n",
       "     Level Of Confidence Cognitive Diagnosis (COGDXCL)  \\\n",
       "1                                                    3   \n",
       "2                                                    2   \n",
       "3                                                    3   \n",
       "4                                                    3   \n",
       "5                                                    2   \n",
       "..                                                 ...   \n",
       "892                                                  3   \n",
       "893                                                  2   \n",
       "894                                                  3   \n",
       "895                                                  2   \n",
       "896                                                  3   \n",
       "\n",
       "     Review Neuropsychological Tests (RVWNPSY)  Age  Ethnicity  Race  ...  \\\n",
       "1                                            0   65          1     4  ...   \n",
       "2                                            0   68          1     4  ...   \n",
       "3                                            0   57          1     4  ...   \n",
       "4                                            0   60          1     4  ...   \n",
       "5                                            0   82          1     4  ...   \n",
       "..                                         ...  ...        ...   ...  ...   \n",
       "892                                          1   63          1     4  ...   \n",
       "893                                          0   82          1     4  ...   \n",
       "894                                          0   67          0     3  ...   \n",
       "895                                          0   72          1     4  ...   \n",
       "896                                          0   66          1     4  ...   \n",
       "\n",
       "     Supine Heart Rate (beats/min) (HRSUP)  \\\n",
       "1                                     63.0   \n",
       "2                                     64.0   \n",
       "3                                     60.0   \n",
       "4                                     48.0   \n",
       "5                                     64.0   \n",
       "..                                     ...   \n",
       "892                                   68.0   \n",
       "893                                   62.0   \n",
       "894                                   64.0   \n",
       "895                                   80.0   \n",
       "896                                   64.0   \n",
       "\n",
       "     Standing Blood Pressure - Systolic (mmHg) (SYSSTND)  \\\n",
       "1                                                137.0     \n",
       "2                                                130.0     \n",
       "3                                                110.0     \n",
       "4                                                150.0     \n",
       "5                                                150.0     \n",
       "..                                                 ...     \n",
       "892                                              124.0     \n",
       "893                                              168.0     \n",
       "894                                              120.0     \n",
       "895                                              133.0     \n",
       "896                                              128.0     \n",
       "\n",
       "     Standing Blood Pressure - Diastolic (mmHg) (DIASTND)  \\\n",
       "1                                                 93.0      \n",
       "2                                                 84.0      \n",
       "3                                                 70.0      \n",
       "4                                                 86.0      \n",
       "5                                                 84.0      \n",
       "..                                                 ...      \n",
       "892                                               82.0      \n",
       "893                                              102.0      \n",
       "894                                               80.0      \n",
       "895                                               88.0      \n",
       "896                                               75.0      \n",
       "\n",
       "     Standing Heart Rate (beats/min) (HRSTND)  Serum IGF-1 (ng/mL)  \\\n",
       "1                                        81.0                211.0   \n",
       "2                                        68.0                126.2   \n",
       "3                                        68.0                142.8   \n",
       "4                                        48.0                165.4   \n",
       "5                                        76.0                 65.8   \n",
       "..                                        ...                  ...   \n",
       "892                                      78.0                103.0   \n",
       "893                                      68.0                103.0   \n",
       "894                                      64.0                103.0   \n",
       "895                                      84.0                103.0   \n",
       "896                                      67.0                103.0   \n",
       "\n",
       "     p-Tau181P (pg/ml)  CSF Hemoglobin (ng/ml) (Textual)  \\\n",
       "1                 30.1                                 0   \n",
       "2                 18.5                                -1   \n",
       "3                  8.2                                -1   \n",
       "4                 11.5                                 0   \n",
       "5                 20.7                                 0   \n",
       "..                 ...                               ...   \n",
       "892               15.9                                -1   \n",
       "893               15.9                                -1   \n",
       "894               15.9                                -1   \n",
       "895               15.9                                -1   \n",
       "896               15.9                                -1   \n",
       "\n",
       "     CSF Alpha-synuclein (pg/ml)  Abeta 42 (pg/ml)  Total tau (pg/ml)  \n",
       "1                        1976.82             435.4               45.9  \n",
       "2                        2972.06             204.1               99.3  \n",
       "3                        1426.42             310.8               27.6  \n",
       "4                        1352.57             374.0               30.8  \n",
       "5                        3720.71             224.0               90.2  \n",
       "..                           ...               ...                ...  \n",
       "892                      3319.59             349.3               54.2  \n",
       "893                      3319.59             349.3               54.2  \n",
       "894                      3319.59             349.3               54.2  \n",
       "895                      3319.59             349.3               54.2  \n",
       "896                      3319.59             349.3               54.2  \n",
       "\n",
       "[896 rows x 381 columns]"
      ]
     },
     "execution_count": 17,
     "metadata": {},
     "output_type": "execute_result"
    }
   ],
   "source": [
    "X"
   ]
  },
  {
   "cell_type": "code",
   "execution_count": 18,
   "id": "d1430371-c4ab-45ff-a83e-2448ee291361",
   "metadata": {
    "execution": {
     "iopub.execute_input": "2023-03-21T22:08:08.084310Z",
     "iopub.status.busy": "2023-03-21T22:08:08.083917Z",
     "iopub.status.idle": "2023-03-21T22:08:08.089765Z",
     "shell.execute_reply": "2023-03-21T22:08:08.089235Z",
     "shell.execute_reply.started": "2023-03-21T22:08:08.084284Z"
    },
    "tags": []
   },
   "outputs": [],
   "source": [
    "X_train, X_test, y_train, y_test = train_test_split(X, y, test_size=0.30)"
   ]
  },
  {
   "cell_type": "code",
   "execution_count": 19,
   "id": "78f3897c-cca5-4619-9f7b-24ac74a2e957",
   "metadata": {
    "execution": {
     "iopub.execute_input": "2023-03-21T22:08:08.654104Z",
     "iopub.status.busy": "2023-03-21T22:08:08.653711Z",
     "iopub.status.idle": "2023-03-21T22:08:08.658127Z",
     "shell.execute_reply": "2023-03-21T22:08:08.657585Z",
     "shell.execute_reply.started": "2023-03-21T22:08:08.654080Z"
    },
    "tags": []
   },
   "outputs": [
    {
     "data": {
      "text/plain": [
       "(627, 381)"
      ]
     },
     "execution_count": 19,
     "metadata": {},
     "output_type": "execute_result"
    }
   ],
   "source": [
    "X_train.shape"
   ]
  },
  {
   "cell_type": "code",
   "execution_count": 20,
   "id": "acbc6a34-2fb2-4c53-9eed-506d41f6d0ab",
   "metadata": {
    "execution": {
     "iopub.execute_input": "2023-03-21T22:08:09.524162Z",
     "iopub.status.busy": "2023-03-21T22:08:09.523776Z",
     "iopub.status.idle": "2023-03-21T22:08:09.528352Z",
     "shell.execute_reply": "2023-03-21T22:08:09.527809Z",
     "shell.execute_reply.started": "2023-03-21T22:08:09.524137Z"
    },
    "tags": []
   },
   "outputs": [
    {
     "data": {
      "text/plain": [
       "(627,)"
      ]
     },
     "execution_count": 20,
     "metadata": {},
     "output_type": "execute_result"
    }
   ],
   "source": [
    "y_train.shape"
   ]
  },
  {
   "cell_type": "code",
   "execution_count": 21,
   "id": "9a4aecd3-c52a-4a05-b3f2-06aec52238cd",
   "metadata": {
    "execution": {
     "iopub.execute_input": "2023-03-21T22:08:10.554532Z",
     "iopub.status.busy": "2023-03-21T22:08:10.554151Z",
     "iopub.status.idle": "2023-03-21T22:08:10.607141Z",
     "shell.execute_reply": "2023-03-21T22:08:10.606563Z",
     "shell.execute_reply.started": "2023-03-21T22:08:10.554509Z"
    },
    "tags": []
   },
   "outputs": [
    {
     "data": {
      "text/plain": [
       "0    520\n",
       "1    520\n",
       "Name: Cognitive State (COGSTATE), dtype: int64"
      ]
     },
     "execution_count": 21,
     "metadata": {},
     "output_type": "execute_result"
    }
   ],
   "source": [
    "oversample = SMOTE(k_neighbors=2)\n",
    "X_train , y_train = oversample.fit_resample(X_train,y_train)\n",
    "y_train = pd.Series(y_train)\n",
    "y_train.value_counts()"
   ]
  },
  {
   "cell_type": "code",
   "execution_count": 22,
   "id": "b72f6ae6-d19d-4afc-99ec-8fb9d574dc51",
   "metadata": {
    "execution": {
     "iopub.execute_input": "2023-03-21T22:08:12.974395Z",
     "iopub.status.busy": "2023-03-21T22:08:12.973994Z",
     "iopub.status.idle": "2023-03-21T22:08:13.661748Z",
     "shell.execute_reply": "2023-03-21T22:08:13.661186Z",
     "shell.execute_reply.started": "2023-03-21T22:08:12.974369Z"
    },
    "tags": []
   },
   "outputs": [
    {
     "data": {
      "text/plain": [
       "RUSBoostClassifier(random_state=0)"
      ]
     },
     "execution_count": 22,
     "metadata": {},
     "output_type": "execute_result"
    }
   ],
   "source": [
    "clf = RUSBoostClassifier(random_state=0)\n",
    "clf.fit(X_train, y_train)"
   ]
  },
  {
   "cell_type": "code",
   "execution_count": 23,
   "id": "5f5b8ca9-6dcb-4155-94a2-10622d9071ae",
   "metadata": {
    "execution": {
     "iopub.execute_input": "2023-03-21T22:08:14.624361Z",
     "iopub.status.busy": "2023-03-21T22:08:14.623985Z",
     "iopub.status.idle": "2023-03-21T22:08:14.647176Z",
     "shell.execute_reply": "2023-03-21T22:08:14.646606Z",
     "shell.execute_reply.started": "2023-03-21T22:08:14.624339Z"
    },
    "tags": []
   },
   "outputs": [],
   "source": [
    "y_pred1 = clf.predict(X_test)\n"
   ]
  },
  {
   "cell_type": "code",
   "execution_count": 28,
   "id": "bd6abbad-53e0-4830-b6fb-7a3fba6bf387",
   "metadata": {
    "execution": {
     "iopub.execute_input": "2023-03-21T22:08:53.294314Z",
     "iopub.status.busy": "2023-03-21T22:08:53.293911Z",
     "iopub.status.idle": "2023-03-21T22:08:53.302881Z",
     "shell.execute_reply": "2023-03-21T22:08:53.302125Z",
     "shell.execute_reply.started": "2023-03-21T22:08:53.294291Z"
    },
    "tags": []
   },
   "outputs": [
    {
     "name": "stdout",
     "output_type": "stream",
     "text": [
      "              precision    recall  f1-score   support\n",
      "\n",
      "           0       0.94      0.93      0.94       221\n",
      "           1       0.71      0.75      0.73        48\n",
      "\n",
      "    accuracy                           0.90       269\n",
      "   macro avg       0.83      0.84      0.83       269\n",
      "weighted avg       0.90      0.90      0.90       269\n",
      "\n"
     ]
    }
   ],
   "source": [
    "report = classification_report(y_test, y_pred1)\n",
    "print(report)"
   ]
  },
  {
   "cell_type": "code",
   "execution_count": 29,
   "id": "e62182f8-6027-44f9-b7d8-151268d73810",
   "metadata": {
    "execution": {
     "iopub.execute_input": "2023-03-21T22:08:55.934312Z",
     "iopub.status.busy": "2023-03-21T22:08:55.933901Z",
     "iopub.status.idle": "2023-03-21T22:08:55.937569Z",
     "shell.execute_reply": "2023-03-21T22:08:55.936919Z",
     "shell.execute_reply.started": "2023-03-21T22:08:55.934289Z"
    },
    "tags": []
   },
   "outputs": [],
   "source": [
    "abc = AdaBoostClassifier(n_estimators=50,\n",
    "                         learning_rate=1)"
   ]
  },
  {
   "cell_type": "code",
   "execution_count": 30,
   "id": "a4e061a2-534e-4ee3-b7c6-c74753fe5f5b",
   "metadata": {
    "execution": {
     "iopub.execute_input": "2023-03-21T22:08:56.664247Z",
     "iopub.status.busy": "2023-03-21T22:08:56.663866Z",
     "iopub.status.idle": "2023-03-21T22:08:57.220950Z",
     "shell.execute_reply": "2023-03-21T22:08:57.220354Z",
     "shell.execute_reply.started": "2023-03-21T22:08:56.664224Z"
    },
    "tags": []
   },
   "outputs": [],
   "source": [
    "model = abc.fit(X_train, y_train)\n"
   ]
  },
  {
   "cell_type": "code",
   "execution_count": 31,
   "id": "0ca7c2ef-67c0-4a14-827b-0791795c4108",
   "metadata": {
    "execution": {
     "iopub.execute_input": "2023-03-21T22:08:57.544565Z",
     "iopub.status.busy": "2023-03-21T22:08:57.544189Z",
     "iopub.status.idle": "2023-03-21T22:08:57.567371Z",
     "shell.execute_reply": "2023-03-21T22:08:57.566803Z",
     "shell.execute_reply.started": "2023-03-21T22:08:57.544542Z"
    },
    "tags": []
   },
   "outputs": [],
   "source": [
    "y_pred = model.predict(X_test)\n"
   ]
  },
  {
   "cell_type": "code",
   "execution_count": 32,
   "id": "2f98f1d2-5046-4cf6-8343-f2a0a4ccd830",
   "metadata": {
    "execution": {
     "iopub.execute_input": "2023-03-21T22:09:01.164322Z",
     "iopub.status.busy": "2023-03-21T22:09:01.163936Z",
     "iopub.status.idle": "2023-03-21T22:09:01.172526Z",
     "shell.execute_reply": "2023-03-21T22:09:01.171961Z",
     "shell.execute_reply.started": "2023-03-21T22:09:01.164300Z"
    },
    "tags": []
   },
   "outputs": [
    {
     "name": "stdout",
     "output_type": "stream",
     "text": [
      "              precision    recall  f1-score   support\n",
      "\n",
      "           0       0.94      0.93      0.94       221\n",
      "           1       0.71      0.75      0.73        48\n",
      "\n",
      "    accuracy                           0.90       269\n",
      "   macro avg       0.83      0.84      0.83       269\n",
      "weighted avg       0.90      0.90      0.90       269\n",
      "\n"
     ]
    }
   ],
   "source": [
    "report = classification_report(y_test, y_pred)\n",
    "print(report)"
   ]
  },
  {
   "cell_type": "code",
   "execution_count": 34,
   "id": "a5f1d41e-a9b4-46e6-bafd-833c38f582e7",
   "metadata": {
    "execution": {
     "iopub.execute_input": "2023-03-21T22:09:20.984486Z",
     "iopub.status.busy": "2023-03-21T22:09:20.984103Z",
     "iopub.status.idle": "2023-03-21T22:09:21.433573Z",
     "shell.execute_reply": "2023-03-21T22:09:21.432835Z",
     "shell.execute_reply.started": "2023-03-21T22:09:20.984462Z"
    },
    "tags": []
   },
   "outputs": [
    {
     "name": "stderr",
     "output_type": "stream",
     "text": [
      "/opt/saturncloud/envs/saturn/lib/python3.9/site-packages/xgboost/sklearn.py:1224: UserWarning: The use of label encoder in XGBClassifier is deprecated and will be removed in a future release. To remove this warning, do the following: 1) Pass option use_label_encoder=False when constructing XGBClassifier object; and 2) Encode your labels (y) as integers starting with 0, i.e. 0, 1, 2, ..., [num_class - 1].\n",
      "  warnings.warn(label_encoder_deprecation_msg, UserWarning)\n",
      "/opt/saturncloud/envs/saturn/lib/python3.9/site-packages/xgboost/data.py:262: FutureWarning: pandas.Int64Index is deprecated and will be removed from pandas in a future version. Use pandas.Index with the appropriate dtype instead.\n",
      "  elif isinstance(data.columns, (pd.Int64Index, pd.RangeIndex)):\n"
     ]
    },
    {
     "name": "stdout",
     "output_type": "stream",
     "text": [
      "[22:09:21] WARNING: /home/conda/feedstock_root/build_artifacts/xgboost-split_1645117766796/work/src/learner.cc:1115: Starting in XGBoost 1.3.0, the default evaluation metric used with the objective 'binary:logistic' was changed from 'error' to 'logloss'. Explicitly set eval_metric if you'd like to restore the old behavior.\n"
     ]
    },
    {
     "data": {
      "text/plain": [
       "0.8921933085501859"
      ]
     },
     "execution_count": 34,
     "metadata": {},
     "output_type": "execute_result"
    }
   ],
   "source": [
    "xgb_cl = xgb.XGBClassifier()\n",
    "xgb_cl.fit(X_train, y_train)\n",
    "preds = xgb_cl.predict(X_test)\n",
    "accuracy_score(y_test, preds)"
   ]
  },
  {
   "cell_type": "code",
   "execution_count": 35,
   "id": "cbded9c4-d3ef-494b-af7e-2071fd57795e",
   "metadata": {
    "execution": {
     "iopub.execute_input": "2023-03-21T22:09:30.654399Z",
     "iopub.status.busy": "2023-03-21T22:09:30.654015Z",
     "iopub.status.idle": "2023-03-21T22:09:30.662846Z",
     "shell.execute_reply": "2023-03-21T22:09:30.662265Z",
     "shell.execute_reply.started": "2023-03-21T22:09:30.654377Z"
    },
    "tags": []
   },
   "outputs": [
    {
     "name": "stdout",
     "output_type": "stream",
     "text": [
      "              precision    recall  f1-score   support\n",
      "\n",
      "           0       0.94      0.93      0.93       221\n",
      "           1       0.69      0.73      0.71        48\n",
      "\n",
      "    accuracy                           0.89       269\n",
      "   macro avg       0.81      0.83      0.82       269\n",
      "weighted avg       0.90      0.89      0.89       269\n",
      "\n"
     ]
    }
   ],
   "source": [
    "print(classification_report(y_test,preds))\n"
   ]
  }
 ],
 "metadata": {
  "kernelspec": {
   "display_name": "saturn (Python 3)",
   "language": "python",
   "name": "python3"
  },
  "language_info": {
   "codemirror_mode": {
    "name": "ipython",
    "version": 3
   },
   "file_extension": ".py",
   "mimetype": "text/x-python",
   "name": "python",
   "nbconvert_exporter": "python",
   "pygments_lexer": "ipython3",
   "version": "3.9.13"
  }
 },
 "nbformat": 4,
 "nbformat_minor": 5
}
