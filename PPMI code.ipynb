{
 "cells": [
  {
   "cell_type": "code",
   "execution_count": 1,
   "id": "6e52a616-b559-4548-86de-6a5f6ccdfe26",
   "metadata": {
    "execution": {
     "iopub.execute_input": "2023-03-22T12:31:07.178864Z",
     "iopub.status.busy": "2023-03-22T12:31:07.178463Z",
     "iopub.status.idle": "2023-03-22T12:31:10.302311Z",
     "shell.execute_reply": "2023-03-22T12:31:10.301531Z",
     "shell.execute_reply.started": "2023-03-22T12:31:07.178799Z"
    },
    "tags": []
   },
   "outputs": [],
   "source": [
    "#pip install seaborn"
   ]
  },
  {
   "cell_type": "code",
   "execution_count": 2,
   "id": "b16eb279-b1b8-423e-94fc-3f503292b9a3",
   "metadata": {
    "execution": {
     "iopub.execute_input": "2023-03-22T12:31:10.303996Z",
     "iopub.status.busy": "2023-03-22T12:31:10.303680Z",
     "iopub.status.idle": "2023-03-22T12:31:12.857778Z",
     "shell.execute_reply": "2023-03-22T12:31:12.856961Z",
     "shell.execute_reply.started": "2023-03-22T12:31:10.303971Z"
    },
    "tags": []
   },
   "outputs": [],
   "source": [
    "#pip install openpyxl"
   ]
  },
  {
   "cell_type": "code",
   "execution_count": 3,
   "id": "cb162b57-77d8-4388-9b08-54394f357b80",
   "metadata": {
    "execution": {
     "iopub.execute_input": "2023-03-22T12:31:12.859133Z",
     "iopub.status.busy": "2023-03-22T12:31:12.858830Z",
     "iopub.status.idle": "2023-03-22T12:31:19.854480Z",
     "shell.execute_reply": "2023-03-22T12:31:19.853730Z",
     "shell.execute_reply.started": "2023-03-22T12:31:12.859108Z"
    },
    "tags": []
   },
   "outputs": [],
   "source": [
    "#pip install dython"
   ]
  },
  {
   "cell_type": "code",
   "execution_count": 4,
   "id": "c75aca71-5c84-415f-8ee0-a0ef6b7ca20f",
   "metadata": {
    "execution": {
     "iopub.execute_input": "2023-03-22T12:31:19.856417Z",
     "iopub.status.busy": "2023-03-22T12:31:19.856107Z",
     "iopub.status.idle": "2023-03-22T12:31:22.419036Z",
     "shell.execute_reply": "2023-03-22T12:31:22.418309Z",
     "shell.execute_reply.started": "2023-03-22T12:31:19.856393Z"
    },
    "tags": []
   },
   "outputs": [],
   "source": [
    "#pip install imblearn"
   ]
  },
  {
   "cell_type": "code",
   "execution_count": 5,
   "id": "394519a4-2eb9-4c76-b10b-f5e185af33c7",
   "metadata": {
    "execution": {
     "iopub.execute_input": "2023-03-22T12:35:58.079961Z",
     "iopub.status.busy": "2023-03-22T12:35:58.079457Z",
     "iopub.status.idle": "2023-03-22T12:35:59.235930Z",
     "shell.execute_reply": "2023-03-22T12:35:59.235104Z",
     "shell.execute_reply.started": "2023-03-22T12:35:58.079905Z"
    },
    "tags": []
   },
   "outputs": [],
   "source": [
    "#import necessary libraries\n",
    "import pandas as pd\n",
    "import numpy as np\n",
    "import openpyxl\n",
    "import seaborn as sns\n",
    "import xgboost as xgb\n",
    "import matplotlib.pyplot as plt\n",
    "from sklearn.metrics import accuracy_score , confusion_matrix , classification_report\n",
    "from sklearn.ensemble import AdaBoostClassifier\n",
    "from imblearn.ensemble import RUSBoostClassifier\n",
    "from imblearn.over_sampling import SMOTE\n",
    "from sklearn.model_selection import KFold, cross_val_score,cross_val_predict\n",
    "from sklearn.preprocessing import LabelEncoder, StandardScaler\n",
    "from sklearn import svm, tree, metrics\n",
    "from sklearn.feature_selection import *\n",
    "from sklearn.model_selection import *"
   ]
  },
  {
   "cell_type": "code",
   "execution_count": null,
   "id": "715b159c-9c59-4226-b810-f25024c115d6",
   "metadata": {
    "execution": {
     "iopub.execute_input": "2023-03-22T12:36:02.187800Z",
     "iopub.status.busy": "2023-03-22T12:36:02.187291Z",
     "iopub.status.idle": "2023-03-22T12:36:05.369808Z",
     "shell.execute_reply": "2023-03-22T12:36:05.369081Z",
     "shell.execute_reply.started": "2023-03-22T12:36:02.187771Z"
    },
    "tags": []
   },
   "outputs": [],
   "source": [
    "#Read the dataset\n",
    "df = pd.read_excel('Dataset.xlsx')\n",
    "df"
   ]
  },
  {
   "cell_type": "code",
   "execution_count": 7,
   "id": "702e1aef-8771-4d7a-89b6-f62d81c38f05",
   "metadata": {
    "execution": {
     "iopub.execute_input": "2023-03-22T12:36:07.782331Z",
     "iopub.status.busy": "2023-03-22T12:36:07.781937Z",
     "iopub.status.idle": "2023-03-22T12:36:07.812821Z",
     "shell.execute_reply": "2023-03-22T12:36:07.812189Z",
     "shell.execute_reply.started": "2023-03-22T12:36:07.782306Z"
    },
    "tags": []
   },
   "outputs": [
    {
     "name": "stdout",
     "output_type": "stream",
     "text": [
      "============= Data Summary =============\n",
      "Missing Values:  895\n",
      "Shape:  (899, 385)\n",
      "Columns:  385\n",
      "Data types:\n",
      "STUDY_ID                                     object\n",
      "SUBJ_ID                                       int64\n",
      "VISIT_NAME                                   object\n",
      "Source Of Information (PTCGBOTH)             object\n",
      "Experienced Cognitive Decline (COGDECLN)     object\n",
      "                                             ...   \n",
      "CSF Hemoglobin (ng/ml) (Textual)             object\n",
      "CSF Alpha-synuclein (pg/ml)                 float64\n",
      "Abeta 42 (pg/ml)                            float64\n",
      "Total tau (pg/ml)                           float64\n",
      "Triglycerides (mg/dL)                       float64\n",
      "Length: 385, dtype: object\n"
     ]
    }
   ],
   "source": [
    "print(\"============= Data Summary =============\")\n",
    "print(\"Missing Values: \" ,np.sum(df.isnull().any(axis=1)))\n",
    "print(\"Shape: \", df.shape)\n",
    "print(\"Columns: \", len(df.columns))\n",
    "print(\"Data types:\")\n",
    "print(df.dtypes)\n",
    "     "
   ]
  },
  {
   "cell_type": "code",
   "execution_count": 8,
   "id": "2eb06f3f-6bf7-4c43-9887-6daf19e55879",
   "metadata": {
    "execution": {
     "iopub.execute_input": "2023-03-22T12:36:09.017061Z",
     "iopub.status.busy": "2023-03-22T12:36:09.016755Z",
     "iopub.status.idle": "2023-03-22T12:36:09.321800Z",
     "shell.execute_reply": "2023-03-22T12:36:09.321187Z",
     "shell.execute_reply.started": "2023-03-22T12:36:09.017040Z"
    },
    "tags": []
   },
   "outputs": [],
   "source": [
    "#We need to convert the different type of values to categorical so we can run correlation function and machine learning algorithms \n",
    "#We convert them to categorical type and assign codes to values\n",
    "df[[col for col in df.columns if df[col].dtypes == object]] = df[[col for col in df.columns if df[col].dtypes == object]].astype('category')#.cat.codes"
   ]
  },
  {
   "cell_type": "code",
   "execution_count": 9,
   "id": "bf0f45e9-3d06-401e-95eb-211e8706aadc",
   "metadata": {
    "execution": {
     "iopub.execute_input": "2023-03-22T12:36:09.323231Z",
     "iopub.status.busy": "2023-03-22T12:36:09.322919Z",
     "iopub.status.idle": "2023-03-22T12:36:09.332718Z",
     "shell.execute_reply": "2023-03-22T12:36:09.332220Z",
     "shell.execute_reply.started": "2023-03-22T12:36:09.323210Z"
    },
    "tags": []
   },
   "outputs": [],
   "source": [
    "cat_cols = [col for col in df.columns if df[col].dtype == 'category']"
   ]
  },
  {
   "cell_type": "code",
   "execution_count": 10,
   "id": "10e482b2-8f45-4523-a833-48698cb62025",
   "metadata": {
    "execution": {
     "iopub.execute_input": "2023-03-22T12:36:10.411479Z",
     "iopub.status.busy": "2023-03-22T12:36:10.411086Z",
     "iopub.status.idle": "2023-03-22T12:36:10.439558Z",
     "shell.execute_reply": "2023-03-22T12:36:10.439011Z",
     "shell.execute_reply.started": "2023-03-22T12:36:10.411455Z"
    },
    "tags": []
   },
   "outputs": [],
   "source": [
    "for col in cat_cols:\n",
    "    df[col] = df[col].cat.codes"
   ]
  },
  {
   "cell_type": "code",
   "execution_count": 11,
   "id": "3f4f4193-05f2-4022-990f-1dffe6c4d137",
   "metadata": {
    "execution": {
     "iopub.status.busy": "2023-03-22T12:31:26.032287Z",
     "iopub.status.idle": "2023-03-22T12:31:26.032547Z",
     "shell.execute_reply": "2023-03-22T12:31:26.032432Z",
     "shell.execute_reply.started": "2023-03-22T12:31:26.032419Z"
    },
    "tags": []
   },
   "outputs": [],
   "source": [
    "#Export the correlation matrix to csv\n",
    "(df.corr()).to_csv('CorrelationMatrix.csv')\n",
    "#Export the matrix to find the correlation between the \"target\" attribute with the other attributes \n",
    "(df.corr()['Cognitive State (COGSTATE)']).to_csv('ClassCorellation.csv')"
   ]
  },
  {
   "cell_type": "code",
   "execution_count": 12,
   "id": "fe4d61e7-4641-4a7f-a7c8-5e9766958c41",
   "metadata": {
    "execution": {
     "iopub.execute_input": "2023-03-22T12:36:18.962770Z",
     "iopub.status.busy": "2023-03-22T12:36:18.962388Z",
     "iopub.status.idle": "2023-03-22T12:36:18.968035Z",
     "shell.execute_reply": "2023-03-22T12:36:18.967492Z",
     "shell.execute_reply.started": "2023-03-22T12:36:18.962746Z"
    },
    "tags": []
   },
   "outputs": [],
   "source": [
    "#Fill the empty values with value of previous cell\n",
    "df = df.ffill()"
   ]
  },
  {
   "cell_type": "code",
   "execution_count": 13,
   "id": "408f4bad-1794-4383-9e3f-2c438aaf41a9",
   "metadata": {
    "execution": {
     "iopub.execute_input": "2023-03-22T12:36:19.964796Z",
     "iopub.status.busy": "2023-03-22T12:36:19.964424Z",
     "iopub.status.idle": "2023-03-22T12:36:19.970805Z",
     "shell.execute_reply": "2023-03-22T12:36:19.970089Z",
     "shell.execute_reply.started": "2023-03-22T12:36:19.964772Z"
    },
    "tags": []
   },
   "outputs": [],
   "source": [
    "#Drop non-assgined values\n",
    "df = df.dropna()"
   ]
  },
  {
   "cell_type": "code",
   "execution_count": 14,
   "id": "e7528b4e-1c80-4f3b-83ff-4a0e917e7e02",
   "metadata": {
    "execution": {
     "iopub.execute_input": "2023-03-22T12:36:29.185808Z",
     "iopub.status.busy": "2023-03-22T12:36:29.185431Z",
     "iopub.status.idle": "2023-03-22T12:36:29.494605Z",
     "shell.execute_reply": "2023-03-22T12:36:29.493742Z",
     "shell.execute_reply.started": "2023-03-22T12:36:29.185784Z"
    },
    "tags": []
   },
   "outputs": [],
   "source": [
    "#Assign correlation method\n",
    "corr_mat = df.corr(method='pearson')"
   ]
  },
  {
   "cell_type": "code",
   "execution_count": null,
   "id": "4fbef33d-7f7f-4f94-a783-a7daa34b9bab",
   "metadata": {
    "execution": {
     "iopub.execute_input": "2023-03-22T12:36:30.713923Z",
     "iopub.status.busy": "2023-03-22T12:36:30.713546Z",
     "iopub.status.idle": "2023-03-22T12:36:30.786572Z",
     "shell.execute_reply": "2023-03-22T12:36:30.786025Z",
     "shell.execute_reply.started": "2023-03-22T12:36:30.713899Z"
    },
    "tags": []
   },
   "outputs": [],
   "source": [
    "#Filter and keep the values which have correlation greater than 2\n",
    "dfCorr = corr_mat\n",
    "filteredDf = dfCorr[(dfCorr >= .2) & (dfCorr !=1.000)]\n",
    "filteredDf.to_csv('ClassCorellationFiltered.csv')\n",
    "filteredDf\n"
   ]
  },
  {
   "cell_type": "code",
   "execution_count": 16,
   "id": "dc1a4263-831e-41f5-9257-7725607ceb2a",
   "metadata": {
    "execution": {
     "iopub.execute_input": "2023-03-22T12:36:33.564596Z",
     "iopub.status.busy": "2023-03-22T12:36:33.564217Z",
     "iopub.status.idle": "2023-03-22T12:36:33.570131Z",
     "shell.execute_reply": "2023-03-22T12:36:33.569555Z",
     "shell.execute_reply.started": "2023-03-22T12:36:33.564572Z"
    },
    "tags": []
   },
   "outputs": [],
   "source": [
    "#Drop columns which have correlation less than 0.2 with the target attribute\n",
    "to_drop = [column for column in corr_mat.columns if abs(corr_mat['Cognitive State (COGSTATE)'][column]) <= 0.2]"
   ]
  },
  {
   "cell_type": "code",
   "execution_count": 17,
   "id": "ffbe1bd1-72be-4c25-a197-8a96017b31b2",
   "metadata": {
    "execution": {
     "iopub.execute_input": "2023-03-22T12:36:34.012348Z",
     "iopub.status.busy": "2023-03-22T12:36:34.011981Z",
     "iopub.status.idle": "2023-03-22T12:36:34.016435Z",
     "shell.execute_reply": "2023-03-22T12:36:34.015884Z",
     "shell.execute_reply.started": "2023-03-22T12:36:34.012325Z"
    },
    "tags": []
   },
   "outputs": [],
   "source": [
    "df1 = df.drop(to_drop, axis=1)"
   ]
  },
  {
   "cell_type": "code",
   "execution_count": null,
   "id": "53fc4772-8e1b-4723-b37a-a945a0a014df",
   "metadata": {
    "execution": {
     "iopub.execute_input": "2023-03-22T12:36:36.023965Z",
     "iopub.status.busy": "2023-03-22T12:36:36.023581Z",
     "iopub.status.idle": "2023-03-22T12:36:36.048439Z",
     "shell.execute_reply": "2023-03-22T12:36:36.047935Z",
     "shell.execute_reply.started": "2023-03-22T12:36:36.023943Z"
    },
    "tags": []
   },
   "outputs": [],
   "source": [
    "df1"
   ]
  },
  {
   "cell_type": "code",
   "execution_count": 19,
   "id": "0c83a4ee-b0f2-403c-9ea8-ca69a32dbb09",
   "metadata": {
    "execution": {
     "iopub.execute_input": "2023-03-22T12:36:39.385718Z",
     "iopub.status.busy": "2023-03-22T12:36:39.385347Z",
     "iopub.status.idle": "2023-03-22T12:36:39.389856Z",
     "shell.execute_reply": "2023-03-22T12:36:39.389318Z",
     "shell.execute_reply.started": "2023-03-22T12:36:39.385695Z"
    },
    "tags": []
   },
   "outputs": [],
   "source": [
    "#Assign X and y to dataset and the rest of the class \n",
    "X = df1.drop('Cognitive State (COGSTATE)', axis=1)\n",
    "\n",
    "y = df1['Cognitive State (COGSTATE)']"
   ]
  },
  {
   "cell_type": "code",
   "execution_count": null,
   "id": "28744b83-8442-4236-bb3c-6efb6f9da515",
   "metadata": {
    "execution": {
     "iopub.execute_input": "2023-03-22T12:36:39.987893Z",
     "iopub.status.busy": "2023-03-22T12:36:39.987524Z",
     "iopub.status.idle": "2023-03-22T12:36:39.992923Z",
     "shell.execute_reply": "2023-03-22T12:36:39.992406Z",
     "shell.execute_reply.started": "2023-03-22T12:36:39.987870Z"
    },
    "tags": []
   },
   "outputs": [],
   "source": [
    "y"
   ]
  },
  {
   "cell_type": "code",
   "execution_count": 21,
   "id": "147701dc-a129-44fb-a4b1-cd0d4cdf18b3",
   "metadata": {
    "execution": {
     "iopub.execute_input": "2023-03-22T12:36:40.496987Z",
     "iopub.status.busy": "2023-03-22T12:36:40.496623Z",
     "iopub.status.idle": "2023-03-22T12:36:40.522170Z",
     "shell.execute_reply": "2023-03-22T12:36:40.521633Z",
     "shell.execute_reply.started": "2023-03-22T12:36:40.496964Z"
    },
    "tags": []
   },
   "outputs": [],
   "source": [
    "X"
   ]
  },
  {
   "cell_type": "code",
   "execution_count": 22,
   "id": "d1430371-c4ab-45ff-a83e-2448ee291361",
   "metadata": {
    "execution": {
     "iopub.execute_input": "2023-03-22T12:36:44.130902Z",
     "iopub.status.busy": "2023-03-22T12:36:44.130517Z",
     "iopub.status.idle": "2023-03-22T12:36:44.135509Z",
     "shell.execute_reply": "2023-03-22T12:36:44.134936Z",
     "shell.execute_reply.started": "2023-03-22T12:36:44.130876Z"
    },
    "tags": []
   },
   "outputs": [],
   "source": [
    "#Split the test to 70-30 for training and testing\n",
    "X_train, X_test, y_train, y_test = train_test_split(X, y, test_size=0.3)"
   ]
  },
  {
   "cell_type": "code",
   "execution_count": 23,
   "id": "cc5b0cef",
   "metadata": {},
   "outputs": [],
   "source": [
    "from imblearn.under_sampling import NearMiss\n",
    "from imblearn.under_sampling import CondensedNearestNeighbour\n",
    "from imblearn.under_sampling import TomekLinks\n",
    "from imblearn.over_sampling import RandomOverSampler\n",
    "from imblearn.over_sampling import ADASYN\n",
    "from imblearn.over_sampling import SMOTEN\n",
    "from imblearn.over_sampling import SMOTENC\n",
    "\n",
    "\n"
   ]
  },
  {
   "cell_type": "code",
   "execution_count": 24,
   "id": "78f3897c-cca5-4619-9f7b-24ac74a2e957",
   "metadata": {
    "execution": {
     "iopub.execute_input": "2023-03-22T12:36:45.330472Z",
     "iopub.status.busy": "2023-03-22T12:36:45.330099Z",
     "iopub.status.idle": "2023-03-22T12:36:45.343539Z",
     "shell.execute_reply": "2023-03-22T12:36:45.342982Z",
     "shell.execute_reply.started": "2023-03-22T12:36:45.330448Z"
    },
    "tags": []
   },
   "outputs": [
    {
     "name": "stdout",
     "output_type": "stream",
     "text": [
      "(1042, 36)\n",
      "(1042,)\n"
     ]
    }
   ],
   "source": [
    "#Use SMOTE to oversample as \"State 1\" in the target attribute is undersampled\n",
    "oversample =SMOTEN(sampling_strategy='minority',k_neighbors=1)\n",
    "X_res,y_res = oversample.fit_resample(X_train,y_train)\n",
    "print(X_res.shape)\n",
    "print(y_res.shape)\n"
   ]
  },
  {
   "attachments": {},
   "cell_type": "markdown",
   "id": "7b74e9eb",
   "metadata": {},
   "source": [
    "RusBoost Classifier"
   ]
  },
  {
   "cell_type": "code",
   "execution_count": 25,
   "id": "b72f6ae6-d19d-4afc-99ec-8fb9d574dc51",
   "metadata": {
    "execution": {
     "iopub.execute_input": "2023-03-22T12:36:49.628725Z",
     "iopub.status.busy": "2023-03-22T12:36:49.628357Z",
     "iopub.status.idle": "2023-03-22T12:36:49.849662Z",
     "shell.execute_reply": "2023-03-22T12:36:49.849130Z",
     "shell.execute_reply.started": "2023-03-22T12:36:49.628701Z"
    },
    "tags": []
   },
   "outputs": [],
   "source": [
    "clf = RUSBoostClassifier(random_state=0)\n",
    "clf.fit(X_res, y_res)\n",
    "predRUS = clf.predict(X_test)\n"
   ]
  },
  {
   "cell_type": "code",
   "execution_count": 26,
   "id": "bd6abbad-53e0-4830-b6fb-7a3fba6bf387",
   "metadata": {
    "execution": {
     "iopub.execute_input": "2023-03-22T12:37:01.416104Z",
     "iopub.status.busy": "2023-03-22T12:37:01.415733Z",
     "iopub.status.idle": "2023-03-22T12:37:01.424105Z",
     "shell.execute_reply": "2023-03-22T12:37:01.423562Z",
     "shell.execute_reply.started": "2023-03-22T12:37:01.416080Z"
    },
    "tags": []
   },
   "outputs": [
    {
     "name": "stdout",
     "output_type": "stream",
     "text": [
      "              precision    recall  f1-score   support\n",
      "\n",
      "           0       0.97      0.96      0.96       222\n",
      "           1       0.82      0.85      0.84        48\n",
      "\n",
      "    accuracy                           0.94       270\n",
      "   macro avg       0.89      0.91      0.90       270\n",
      "weighted avg       0.94      0.94      0.94       270\n",
      "\n"
     ]
    }
   ],
   "source": [
    "report = classification_report(y_test, predRUS)\n",
    "print(report)"
   ]
  },
  {
   "attachments": {},
   "cell_type": "markdown",
   "id": "2060d53c",
   "metadata": {},
   "source": [
    "AdaBoost Classifier"
   ]
  },
  {
   "cell_type": "code",
   "execution_count": 27,
   "id": "e62182f8-6027-44f9-b7d8-151268d73810",
   "metadata": {
    "execution": {
     "iopub.execute_input": "2023-03-22T12:37:08.573172Z",
     "iopub.status.busy": "2023-03-22T12:37:08.572798Z",
     "iopub.status.idle": "2023-03-22T12:37:08.576315Z",
     "shell.execute_reply": "2023-03-22T12:37:08.575729Z",
     "shell.execute_reply.started": "2023-03-22T12:37:08.573147Z"
    },
    "tags": []
   },
   "outputs": [],
   "source": [
    "abc = AdaBoostClassifier(n_estimators=50,learning_rate=1)\n",
    "model = abc.fit(X_res, y_res)\n",
    "predABC = model.predict(X_test)\n",
    "                         "
   ]
  },
  {
   "cell_type": "code",
   "execution_count": 28,
   "id": "a4e061a2-534e-4ee3-b7c6-c74753fe5f5b",
   "metadata": {
    "execution": {
     "iopub.execute_input": "2023-03-22T12:37:09.163420Z",
     "iopub.status.busy": "2023-03-22T12:37:09.163030Z",
     "iopub.status.idle": "2023-03-22T12:37:09.323441Z",
     "shell.execute_reply": "2023-03-22T12:37:09.322831Z",
     "shell.execute_reply.started": "2023-03-22T12:37:09.163395Z"
    },
    "tags": []
   },
   "outputs": [
    {
     "name": "stdout",
     "output_type": "stream",
     "text": [
      "              precision    recall  f1-score   support\n",
      "\n",
      "           0       0.97      0.96      0.96       222\n",
      "           1       0.82      0.85      0.84        48\n",
      "\n",
      "    accuracy                           0.94       270\n",
      "   macro avg       0.89      0.91      0.90       270\n",
      "weighted avg       0.94      0.94      0.94       270\n",
      "\n"
     ]
    }
   ],
   "source": [
    "report = classification_report(y_test, predABC)\n",
    "print(report)"
   ]
  },
  {
   "attachments": {},
   "cell_type": "markdown",
   "id": "41cbbf62",
   "metadata": {},
   "source": [
    "XGB Classifier"
   ]
  },
  {
   "cell_type": "code",
   "execution_count": 29,
   "id": "a5f1d41e-a9b4-46e6-bafd-833c38f582e7",
   "metadata": {
    "execution": {
     "iopub.execute_input": "2023-03-22T12:37:16.051075Z",
     "iopub.status.busy": "2023-03-22T12:37:16.050691Z",
     "iopub.status.idle": "2023-03-22T12:37:16.191615Z",
     "shell.execute_reply": "2023-03-22T12:37:16.190879Z",
     "shell.execute_reply.started": "2023-03-22T12:37:16.051049Z"
    },
    "tags": []
   },
   "outputs": [],
   "source": [
    "xgb_cl = xgb.XGBClassifier()\n",
    "xgb_cl.fit(X_res, y_res)\n",
    "predXGB = xgb_cl.predict(X_test)"
   ]
  },
  {
   "cell_type": "code",
   "execution_count": 30,
   "id": "cbded9c4-d3ef-494b-af7e-2071fd57795e",
   "metadata": {
    "execution": {
     "iopub.execute_input": "2023-03-22T12:37:18.593143Z",
     "iopub.status.busy": "2023-03-22T12:37:18.592765Z",
     "iopub.status.idle": "2023-03-22T12:37:18.602949Z",
     "shell.execute_reply": "2023-03-22T12:37:18.602300Z",
     "shell.execute_reply.started": "2023-03-22T12:37:18.593118Z"
    },
    "tags": []
   },
   "outputs": [
    {
     "name": "stdout",
     "output_type": "stream",
     "text": [
      "              precision    recall  f1-score   support\n",
      "\n",
      "           0       0.95      0.95      0.95       222\n",
      "           1       0.79      0.77      0.78        48\n",
      "\n",
      "    accuracy                           0.92       270\n",
      "   macro avg       0.87      0.86      0.87       270\n",
      "weighted avg       0.92      0.92      0.92       270\n",
      "\n"
     ]
    }
   ],
   "source": [
    "print(classification_report(y_test,predXGB))\n"
   ]
  },
  {
   "cell_type": "code",
   "execution_count": null,
   "id": "19e0cb1e",
   "metadata": {},
   "outputs": [],
   "source": []
  }
 ],
 "metadata": {
  "kernelspec": {
   "display_name": "saturn (Python 3)",
   "language": "python",
   "name": "python3"
  },
  "language_info": {
   "codemirror_mode": {
    "name": "ipython",
    "version": 3
   },
   "file_extension": ".py",
   "mimetype": "text/x-python",
   "name": "python",
   "nbconvert_exporter": "python",
   "pygments_lexer": "ipython3",
   "version": "3.9.13"
  }
 },
 "nbformat": 4,
 "nbformat_minor": 5
}
